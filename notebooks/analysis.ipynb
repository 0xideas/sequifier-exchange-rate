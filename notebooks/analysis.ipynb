{
 "cells": [
  {
   "cell_type": "code",
   "execution_count": 1,
   "metadata": {},
   "outputs": [],
   "source": [
    "import pandas as pd\n",
    "import numpy as np"
   ]
  },
  {
   "cell_type": "code",
   "execution_count": 2,
   "metadata": {},
   "outputs": [
    {
     "data": {
      "text/plain": [
       "(658, 9)"
      ]
     },
     "execution_count": 2,
     "metadata": {},
     "output_type": "execute_result"
    }
   ],
   "source": [
    "# autoregression = pd.read_csv(\"../outputs/predictions/sequifier-default-best-1575-all-autoregression-predictions.csv\")\n",
    "onestep = pd.read_csv(\"../outputs/predictions/sequifier-default4-best-100-predictions.csv\")\n",
    "onestep.shape"
   ]
  },
  {
   "cell_type": "code",
   "execution_count": 3,
   "metadata": {},
   "outputs": [
    {
     "data": {
      "text/html": [
       "<div>\n",
       "<style scoped>\n",
       "    .dataframe tbody tr th:only-of-type {\n",
       "        vertical-align: middle;\n",
       "    }\n",
       "\n",
       "    .dataframe tbody tr th {\n",
       "        vertical-align: top;\n",
       "    }\n",
       "\n",
       "    .dataframe thead th {\n",
       "        text-align: right;\n",
       "    }\n",
       "</style>\n",
       "<table border=\"1\" class=\"dataframe\">\n",
       "  <thead>\n",
       "    <tr style=\"text-align: right;\">\n",
       "      <th></th>\n",
       "      <th>sequenceId</th>\n",
       "      <th>Australia</th>\n",
       "      <th>British</th>\n",
       "      <th>Canada</th>\n",
       "      <th>Switzerland</th>\n",
       "      <th>China</th>\n",
       "      <th>Japan</th>\n",
       "      <th>NewZealand</th>\n",
       "      <th>Singapore</th>\n",
       "    </tr>\n",
       "  </thead>\n",
       "  <tbody>\n",
       "    <tr>\n",
       "      <th>0</th>\n",
       "      <td>1</td>\n",
       "      <td>0.833002</td>\n",
       "      <td>1.489911</td>\n",
       "      <td>0.820057</td>\n",
       "      <td>0.981445</td>\n",
       "      <td>0.150731</td>\n",
       "      <td>0.008502</td>\n",
       "      <td>0.727128</td>\n",
       "      <td>0.727008</td>\n",
       "    </tr>\n",
       "    <tr>\n",
       "      <th>1</th>\n",
       "      <td>1</td>\n",
       "      <td>0.833156</td>\n",
       "      <td>1.489557</td>\n",
       "      <td>0.820275</td>\n",
       "      <td>0.981414</td>\n",
       "      <td>0.150715</td>\n",
       "      <td>0.008498</td>\n",
       "      <td>0.727396</td>\n",
       "      <td>0.726991</td>\n",
       "    </tr>\n",
       "    <tr>\n",
       "      <th>2</th>\n",
       "      <td>1</td>\n",
       "      <td>0.832765</td>\n",
       "      <td>1.489219</td>\n",
       "      <td>0.819940</td>\n",
       "      <td>0.981312</td>\n",
       "      <td>0.150691</td>\n",
       "      <td>0.008496</td>\n",
       "      <td>0.727123</td>\n",
       "      <td>0.726757</td>\n",
       "    </tr>\n",
       "    <tr>\n",
       "      <th>3</th>\n",
       "      <td>1</td>\n",
       "      <td>0.831641</td>\n",
       "      <td>1.492283</td>\n",
       "      <td>0.818621</td>\n",
       "      <td>0.978990</td>\n",
       "      <td>0.150454</td>\n",
       "      <td>0.008462</td>\n",
       "      <td>0.726650</td>\n",
       "      <td>0.726126</td>\n",
       "    </tr>\n",
       "    <tr>\n",
       "      <th>4</th>\n",
       "      <td>1</td>\n",
       "      <td>0.830642</td>\n",
       "      <td>1.487950</td>\n",
       "      <td>0.818438</td>\n",
       "      <td>0.980785</td>\n",
       "      <td>0.150611</td>\n",
       "      <td>0.008483</td>\n",
       "      <td>0.725267</td>\n",
       "      <td>0.725662</td>\n",
       "    </tr>\n",
       "    <tr>\n",
       "      <th>...</th>\n",
       "      <td>...</td>\n",
       "      <td>...</td>\n",
       "      <td>...</td>\n",
       "      <td>...</td>\n",
       "      <td>...</td>\n",
       "      <td>...</td>\n",
       "      <td>...</td>\n",
       "      <td>...</td>\n",
       "      <td>...</td>\n",
       "    </tr>\n",
       "    <tr>\n",
       "      <th>653</th>\n",
       "      <td>1</td>\n",
       "      <td>0.873667</td>\n",
       "      <td>1.408342</td>\n",
       "      <td>0.851124</td>\n",
       "      <td>1.055347</td>\n",
       "      <td>0.157023</td>\n",
       "      <td>0.009645</td>\n",
       "      <td>0.748162</td>\n",
       "      <td>0.736495</td>\n",
       "    </tr>\n",
       "    <tr>\n",
       "      <th>654</th>\n",
       "      <td>1</td>\n",
       "      <td>0.872622</td>\n",
       "      <td>1.408136</td>\n",
       "      <td>0.850393</td>\n",
       "      <td>1.054303</td>\n",
       "      <td>0.156999</td>\n",
       "      <td>0.009636</td>\n",
       "      <td>0.747398</td>\n",
       "      <td>0.736095</td>\n",
       "    </tr>\n",
       "    <tr>\n",
       "      <th>655</th>\n",
       "      <td>1</td>\n",
       "      <td>0.873446</td>\n",
       "      <td>1.407739</td>\n",
       "      <td>0.851290</td>\n",
       "      <td>1.054382</td>\n",
       "      <td>0.157019</td>\n",
       "      <td>0.009643</td>\n",
       "      <td>0.748084</td>\n",
       "      <td>0.736376</td>\n",
       "    </tr>\n",
       "    <tr>\n",
       "      <th>656</th>\n",
       "      <td>1</td>\n",
       "      <td>0.874515</td>\n",
       "      <td>1.407176</td>\n",
       "      <td>0.851594</td>\n",
       "      <td>1.056528</td>\n",
       "      <td>0.156940</td>\n",
       "      <td>0.009676</td>\n",
       "      <td>0.749172</td>\n",
       "      <td>0.736908</td>\n",
       "    </tr>\n",
       "    <tr>\n",
       "      <th>657</th>\n",
       "      <td>1</td>\n",
       "      <td>0.872951</td>\n",
       "      <td>1.409557</td>\n",
       "      <td>0.851199</td>\n",
       "      <td>1.056640</td>\n",
       "      <td>0.157114</td>\n",
       "      <td>0.009629</td>\n",
       "      <td>0.748270</td>\n",
       "      <td>0.735358</td>\n",
       "    </tr>\n",
       "  </tbody>\n",
       "</table>\n",
       "<p>658 rows × 9 columns</p>\n",
       "</div>"
      ],
      "text/plain": [
       "     sequenceId  Australia   British    Canada  Switzerland     China  \\\n",
       "0             1   0.833002  1.489911  0.820057     0.981445  0.150731   \n",
       "1             1   0.833156  1.489557  0.820275     0.981414  0.150715   \n",
       "2             1   0.832765  1.489219  0.819940     0.981312  0.150691   \n",
       "3             1   0.831641  1.492283  0.818621     0.978990  0.150454   \n",
       "4             1   0.830642  1.487950  0.818438     0.980785  0.150611   \n",
       "..          ...        ...       ...       ...          ...       ...   \n",
       "653           1   0.873667  1.408342  0.851124     1.055347  0.157023   \n",
       "654           1   0.872622  1.408136  0.850393     1.054303  0.156999   \n",
       "655           1   0.873446  1.407739  0.851290     1.054382  0.157019   \n",
       "656           1   0.874515  1.407176  0.851594     1.056528  0.156940   \n",
       "657           1   0.872951  1.409557  0.851199     1.056640  0.157114   \n",
       "\n",
       "        Japan  NewZealand  Singapore  \n",
       "0    0.008502    0.727128   0.727008  \n",
       "1    0.008498    0.727396   0.726991  \n",
       "2    0.008496    0.727123   0.726757  \n",
       "3    0.008462    0.726650   0.726126  \n",
       "4    0.008483    0.725267   0.725662  \n",
       "..        ...         ...        ...  \n",
       "653  0.009645    0.748162   0.736495  \n",
       "654  0.009636    0.747398   0.736095  \n",
       "655  0.009643    0.748084   0.736376  \n",
       "656  0.009676    0.749172   0.736908  \n",
       "657  0.009629    0.748270   0.735358  \n",
       "\n",
       "[658 rows x 9 columns]"
      ]
     },
     "execution_count": 3,
     "metadata": {},
     "output_type": "execute_result"
    }
   ],
   "source": [
    "onestep"
   ]
  },
  {
   "cell_type": "code",
   "execution_count": 4,
   "metadata": {},
   "outputs": [],
   "source": [
    "target = pd.read_csv(\"../data/exchange_rate.txt\").drop(columns=[\"itemPosition\"])"
   ]
  },
  {
   "cell_type": "code",
   "execution_count": 5,
   "metadata": {},
   "outputs": [],
   "source": [
    "target2 = pd.read_parquet(\"../data/exchange_rate-split2.parquet\")[\"target\"].values.reshape(onestep.shape[0], 8)\n",
    "import json\n",
    "with open(\"../configs/ddconfigs/exchange_rate.json\", \"r\") as f:\n",
    "    min_max_values = json.loads(f.read())[\"min_max_values\"]"
   ]
  },
  {
   "cell_type": "code",
   "execution_count": 6,
   "metadata": {},
   "outputs": [],
   "source": [
    "def invert_normalization(min_max_values, values, target_column):\n",
    "    min_ = min_max_values[target_column][\"min\"]\n",
    "    max_ = min_max_values[target_column][\"max\"]\n",
    "    return np.array(\n",
    "        [(((v + 0.8) / 1.6) * (max_ - min_)) + min_ for v in values.flatten()]\n",
    "    ).reshape(*values.shape)"
   ]
  },
  {
   "cell_type": "code",
   "execution_count": 7,
   "metadata": {},
   "outputs": [
    {
     "data": {
      "text/plain": [
       "{'Australia': {'min': 0.483297, 'max': 1.102536},\n",
       " 'British': {'min': 1.211534, 'max': 2.109},\n",
       " 'Canada': {'min': 0.618582, 'max': 1.091524},\n",
       " 'Switzerland': {'min': 0.548617, 'max': 1.374079},\n",
       " 'China': {'min': 0.109292, 'max': 0.237954},\n",
       " 'Japan': {'min': 0.006254, 'max': 0.013202},\n",
       " 'NewZealand': {'min': 0.393153, 'max': 0.882379},\n",
       " 'Singapore': {'min': 0.523834, 'max': 0.832556}}"
      ]
     },
     "execution_count": 7,
     "metadata": {},
     "output_type": "execute_result"
    }
   ],
   "source": [
    "min_max_values"
   ]
  },
  {
   "cell_type": "code",
   "execution_count": 8,
   "metadata": {},
   "outputs": [
    {
     "ename": "IndexError",
     "evalue": "only integers, slices (`:`), ellipsis (`...`), numpy.newaxis (`None`) and integer or boolean arrays are valid indices",
     "output_type": "error",
     "traceback": [
      "\u001b[0;31m---------------------------------------------------------------------------\u001b[0m",
      "\u001b[0;31mIndexError\u001b[0m                                Traceback (most recent call last)",
      "Cell \u001b[0;32mIn[8], line 1\u001b[0m\n\u001b[0;32m----> 1\u001b[0m \u001b[43mtarget2\u001b[49m\u001b[43m[\u001b[49m\u001b[38;5;124;43m\"\u001b[39;49m\u001b[38;5;124;43mtarget\u001b[39;49m\u001b[38;5;124;43m\"\u001b[39;49m\u001b[43m]\u001b[49m\u001b[38;5;241m.\u001b[39mvalues\u001b[38;5;241m.\u001b[39mreshape(onestep\u001b[38;5;241m.\u001b[39mshape[\u001b[38;5;241m0\u001b[39m], \u001b[38;5;241m8\u001b[39m)\n",
      "\u001b[0;31mIndexError\u001b[0m: only integers, slices (`:`), ellipsis (`...`), numpy.newaxis (`None`) and integer or boolean arrays are valid indices"
     ]
    }
   ],
   "source": [
    "target2[\"target\"].values.reshape(onestep.shape[0], 8)"
   ]
  },
  {
   "cell_type": "code",
   "execution_count": 9,
   "metadata": {},
   "outputs": [],
   "source": [
    "columns = [\"Australia\", \"British\", \"Canada\", \"Switzerland\", \"China\", \"Japan\", \"NewZealand\", \"Singapore\"]"
   ]
  },
  {
   "cell_type": "code",
   "execution_count": 10,
   "metadata": {},
   "outputs": [],
   "source": [
    "#np.mean(np.abs(autoregression[columns].values - target[columns].tail(738).values))"
   ]
  },
  {
   "cell_type": "code",
   "execution_count": 11,
   "metadata": {},
   "outputs": [
    {
     "data": {
      "text/plain": [
       "0.03041429962737127"
      ]
     },
     "execution_count": 11,
     "metadata": {},
     "output_type": "execute_result"
    }
   ],
   "source": [
    "np.mean(np.abs( (np.tile(target[columns].tail(659).head(1).values, 738)).reshape(738, len(columns)) - target[columns].tail(738).values))"
   ]
  },
  {
   "cell_type": "code",
   "execution_count": 12,
   "metadata": {},
   "outputs": [
    {
     "data": {
      "text/plain": [
       "0.03525030574756994"
      ]
     },
     "execution_count": 12,
     "metadata": {},
     "output_type": "execute_result"
    }
   ],
   "source": [
    "np.mean(np.abs(onestep[columns].values - target[columns].tail(658).values))"
   ]
  },
  {
   "cell_type": "code",
   "execution_count": 13,
   "metadata": {},
   "outputs": [
    {
     "data": {
      "text/plain": [
       "0.002476956496960486"
      ]
     },
     "execution_count": 13,
     "metadata": {},
     "output_type": "execute_result"
    }
   ],
   "source": [
    "np.mean(np.abs(target[columns].tail(659).head(658).values - target[columns].tail(658).values))"
   ]
  },
  {
   "cell_type": "code",
   "execution_count": null,
   "metadata": {},
   "outputs": [],
   "source": []
  },
  {
   "cell_type": "code",
   "execution_count": null,
   "metadata": {},
   "outputs": [],
   "source": []
  }
 ],
 "metadata": {
  "kernelspec": {
   "display_name": "dev",
   "language": "python",
   "name": "python3"
  },
  "language_info": {
   "codemirror_mode": {
    "name": "ipython",
    "version": 3
   },
   "file_extension": ".py",
   "mimetype": "text/x-python",
   "name": "python",
   "nbconvert_exporter": "python",
   "pygments_lexer": "ipython3",
   "version": "3.11.8"
  }
 },
 "nbformat": 4,
 "nbformat_minor": 2
}
