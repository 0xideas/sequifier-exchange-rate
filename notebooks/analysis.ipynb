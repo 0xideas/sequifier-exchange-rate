{
 "cells": [
  {
   "cell_type": "code",
   "execution_count": 1,
   "metadata": {},
   "outputs": [],
   "source": [
    "import pandas as pd\n",
    "import numpy as np"
   ]
  },
  {
   "cell_type": "code",
   "execution_count": 9,
   "metadata": {},
   "outputs": [
    {
     "data": {
      "text/plain": [
       "(658, 9)"
      ]
     },
     "execution_count": 9,
     "metadata": {},
     "output_type": "execute_result"
    }
   ],
   "source": [
    "# autoregression = pd.read_csv(\"../outputs/predictions/sequifier-default-best-1575-all-autoregression-predictions.csv\")\n",
    "onestep = pd.read_csv(\"../outputs/predictions/sequifier-default4-best-50-predictions.csv\")\n",
    "onestep.shape"
   ]
  },
  {
   "cell_type": "code",
   "execution_count": 10,
   "metadata": {},
   "outputs": [
    {
     "data": {
      "text/html": [
       "<div>\n",
       "<style scoped>\n",
       "    .dataframe tbody tr th:only-of-type {\n",
       "        vertical-align: middle;\n",
       "    }\n",
       "\n",
       "    .dataframe tbody tr th {\n",
       "        vertical-align: top;\n",
       "    }\n",
       "\n",
       "    .dataframe thead th {\n",
       "        text-align: right;\n",
       "    }\n",
       "</style>\n",
       "<table border=\"1\" class=\"dataframe\">\n",
       "  <thead>\n",
       "    <tr style=\"text-align: right;\">\n",
       "      <th></th>\n",
       "      <th>sequenceId</th>\n",
       "      <th>Australia</th>\n",
       "      <th>British</th>\n",
       "      <th>Canada</th>\n",
       "      <th>Switzerland</th>\n",
       "      <th>China</th>\n",
       "      <th>Japan</th>\n",
       "      <th>NewZealand</th>\n",
       "      <th>Singapore</th>\n",
       "    </tr>\n",
       "  </thead>\n",
       "  <tbody>\n",
       "    <tr>\n",
       "      <th>0</th>\n",
       "      <td>1</td>\n",
       "      <td>0.745555</td>\n",
       "      <td>1.418498</td>\n",
       "      <td>0.775707</td>\n",
       "      <td>0.981409</td>\n",
       "      <td>0.152654</td>\n",
       "      <td>0.008043</td>\n",
       "      <td>0.744219</td>\n",
       "      <td>0.723266</td>\n",
       "    </tr>\n",
       "    <tr>\n",
       "      <th>1</th>\n",
       "      <td>1</td>\n",
       "      <td>0.746054</td>\n",
       "      <td>1.416595</td>\n",
       "      <td>0.775079</td>\n",
       "      <td>0.980459</td>\n",
       "      <td>0.152597</td>\n",
       "      <td>0.008025</td>\n",
       "      <td>0.746951</td>\n",
       "      <td>0.722826</td>\n",
       "    </tr>\n",
       "    <tr>\n",
       "      <th>2</th>\n",
       "      <td>1</td>\n",
       "      <td>0.745950</td>\n",
       "      <td>1.416502</td>\n",
       "      <td>0.774998</td>\n",
       "      <td>0.980283</td>\n",
       "      <td>0.152592</td>\n",
       "      <td>0.008024</td>\n",
       "      <td>0.746813</td>\n",
       "      <td>0.722733</td>\n",
       "    </tr>\n",
       "    <tr>\n",
       "      <th>3</th>\n",
       "      <td>1</td>\n",
       "      <td>0.744270</td>\n",
       "      <td>1.422976</td>\n",
       "      <td>0.773791</td>\n",
       "      <td>0.973536</td>\n",
       "      <td>0.151977</td>\n",
       "      <td>0.007987</td>\n",
       "      <td>0.746639</td>\n",
       "      <td>0.722173</td>\n",
       "    </tr>\n",
       "    <tr>\n",
       "      <th>4</th>\n",
       "      <td>1</td>\n",
       "      <td>0.739404</td>\n",
       "      <td>1.421342</td>\n",
       "      <td>0.777702</td>\n",
       "      <td>0.971692</td>\n",
       "      <td>0.152791</td>\n",
       "      <td>0.008042</td>\n",
       "      <td>0.734201</td>\n",
       "      <td>0.720618</td>\n",
       "    </tr>\n",
       "    <tr>\n",
       "      <th>...</th>\n",
       "      <td>...</td>\n",
       "      <td>...</td>\n",
       "      <td>...</td>\n",
       "      <td>...</td>\n",
       "      <td>...</td>\n",
       "      <td>...</td>\n",
       "      <td>...</td>\n",
       "      <td>...</td>\n",
       "      <td>...</td>\n",
       "    </tr>\n",
       "    <tr>\n",
       "      <th>653</th>\n",
       "      <td>1</td>\n",
       "      <td>0.768555</td>\n",
       "      <td>1.320229</td>\n",
       "      <td>0.796245</td>\n",
       "      <td>1.058071</td>\n",
       "      <td>0.151191</td>\n",
       "      <td>0.009284</td>\n",
       "      <td>0.751899</td>\n",
       "      <td>0.724056</td>\n",
       "    </tr>\n",
       "    <tr>\n",
       "      <th>654</th>\n",
       "      <td>1</td>\n",
       "      <td>0.768690</td>\n",
       "      <td>1.320383</td>\n",
       "      <td>0.795257</td>\n",
       "      <td>1.058782</td>\n",
       "      <td>0.151224</td>\n",
       "      <td>0.009273</td>\n",
       "      <td>0.751014</td>\n",
       "      <td>0.723921</td>\n",
       "    </tr>\n",
       "    <tr>\n",
       "      <th>655</th>\n",
       "      <td>1</td>\n",
       "      <td>0.768903</td>\n",
       "      <td>1.319820</td>\n",
       "      <td>0.795534</td>\n",
       "      <td>1.056867</td>\n",
       "      <td>0.151210</td>\n",
       "      <td>0.009271</td>\n",
       "      <td>0.753133</td>\n",
       "      <td>0.723120</td>\n",
       "    </tr>\n",
       "    <tr>\n",
       "      <th>656</th>\n",
       "      <td>1</td>\n",
       "      <td>0.770803</td>\n",
       "      <td>1.322302</td>\n",
       "      <td>0.798628</td>\n",
       "      <td>1.062040</td>\n",
       "      <td>0.151116</td>\n",
       "      <td>0.009357</td>\n",
       "      <td>0.755829</td>\n",
       "      <td>0.724380</td>\n",
       "    </tr>\n",
       "    <tr>\n",
       "      <th>657</th>\n",
       "      <td>1</td>\n",
       "      <td>0.771332</td>\n",
       "      <td>1.327945</td>\n",
       "      <td>0.801761</td>\n",
       "      <td>1.067820</td>\n",
       "      <td>0.151375</td>\n",
       "      <td>0.009315</td>\n",
       "      <td>0.755935</td>\n",
       "      <td>0.724494</td>\n",
       "    </tr>\n",
       "  </tbody>\n",
       "</table>\n",
       "<p>658 rows × 9 columns</p>\n",
       "</div>"
      ],
      "text/plain": [
       "     sequenceId  Australia   British    Canada  Switzerland     China  \\\n",
       "0             1   0.745555  1.418498  0.775707     0.981409  0.152654   \n",
       "1             1   0.746054  1.416595  0.775079     0.980459  0.152597   \n",
       "2             1   0.745950  1.416502  0.774998     0.980283  0.152592   \n",
       "3             1   0.744270  1.422976  0.773791     0.973536  0.151977   \n",
       "4             1   0.739404  1.421342  0.777702     0.971692  0.152791   \n",
       "..          ...        ...       ...       ...          ...       ...   \n",
       "653           1   0.768555  1.320229  0.796245     1.058071  0.151191   \n",
       "654           1   0.768690  1.320383  0.795257     1.058782  0.151224   \n",
       "655           1   0.768903  1.319820  0.795534     1.056867  0.151210   \n",
       "656           1   0.770803  1.322302  0.798628     1.062040  0.151116   \n",
       "657           1   0.771332  1.327945  0.801761     1.067820  0.151375   \n",
       "\n",
       "        Japan  NewZealand  Singapore  \n",
       "0    0.008043    0.744219   0.723266  \n",
       "1    0.008025    0.746951   0.722826  \n",
       "2    0.008024    0.746813   0.722733  \n",
       "3    0.007987    0.746639   0.722173  \n",
       "4    0.008042    0.734201   0.720618  \n",
       "..        ...         ...        ...  \n",
       "653  0.009284    0.751899   0.724056  \n",
       "654  0.009273    0.751014   0.723921  \n",
       "655  0.009271    0.753133   0.723120  \n",
       "656  0.009357    0.755829   0.724380  \n",
       "657  0.009315    0.755935   0.724494  \n",
       "\n",
       "[658 rows x 9 columns]"
      ]
     },
     "execution_count": 10,
     "metadata": {},
     "output_type": "execute_result"
    }
   ],
   "source": [
    "onestep"
   ]
  },
  {
   "cell_type": "code",
   "execution_count": 3,
   "metadata": {},
   "outputs": [],
   "source": [
    "target = pd.read_csv(\"../data/exchange_rate.txt\").drop(columns=[\"itemPosition\"])"
   ]
  },
  {
   "cell_type": "code",
   "execution_count": 19,
   "metadata": {},
   "outputs": [],
   "source": [
    "target2 = pd.read_parquet(\"../data/exchange_rate-split2.parquet\")[\"target\"].values.reshape(onestep.shape[0], 8)\n",
    "import json\n",
    "with open(\"../configs/ddconfigs/exchange_rate.json\", \"r\") as f:\n",
    "    min_max_values = json.loads(f.read())[\"min_max_values\"]"
   ]
  },
  {
   "cell_type": "code",
   "execution_count": null,
   "metadata": {},
   "outputs": [],
   "source": [
    "def invert_normalization(min_max_values, values, target_column):\n",
    "    min_ = min_max_values[target_column][\"min\"]\n",
    "    max_ = min_max_values[target_column][\"max\"]\n",
    "    return np.array(\n",
    "        [(((v + 0.8) / 1.6) * (max_ - min_)) + min_ for v in values.flatten()]\n",
    "    ).reshape(*values.shape)"
   ]
  },
  {
   "cell_type": "code",
   "execution_count": 20,
   "metadata": {},
   "outputs": [
    {
     "data": {
      "text/plain": [
       "{'Australia': {'min': 0.483297, 'max': 1.102536},\n",
       " 'British': {'min': 1.211534, 'max': 2.109},\n",
       " 'Canada': {'min': 0.618582, 'max': 1.091524},\n",
       " 'Switzerland': {'min': 0.548617, 'max': 1.374079},\n",
       " 'China': {'min': 0.109292, 'max': 0.237954},\n",
       " 'Japan': {'min': 0.006254, 'max': 0.013202},\n",
       " 'NewZealand': {'min': 0.393153, 'max': 0.882379},\n",
       " 'Singapore': {'min': 0.523834, 'max': 0.832556}}"
      ]
     },
     "execution_count": 20,
     "metadata": {},
     "output_type": "execute_result"
    }
   ],
   "source": [
    "min_max_values"
   ]
  },
  {
   "cell_type": "code",
   "execution_count": 18,
   "metadata": {},
   "outputs": [
    {
     "data": {
      "text/plain": [
       "array([[-0.07493972, -0.33181959, -0.24609529, ..., -0.34312032,\n",
       "         0.31746146,  0.20657031],\n",
       "       [-0.07493972, -0.33181959, -0.24609529, ..., -0.34312032,\n",
       "         0.31746146,  0.20657031],\n",
       "       [-0.06934576, -0.31717213, -0.24157212, ..., -0.34173863,\n",
       "         0.33417684,  0.21554149],\n",
       "       ...,\n",
       "       [-0.18365122, -0.77874014, -0.3853259 , ..., -0.26090961,\n",
       "         0.1894748 ,  0.06267386],\n",
       "       [-0.1801424 , -0.75974978, -0.37169547, ..., -0.26850892,\n",
       "         0.19026626,  0.06853545],\n",
       "       [-0.18627121, -0.76011704, -0.37525785, ..., -0.2701209 ,\n",
       "         0.17962414,  0.06606332]])"
      ]
     },
     "execution_count": 18,
     "metadata": {},
     "output_type": "execute_result"
    }
   ],
   "source": [
    "target2[\"target\"].values.reshape(onestep.shape[0], 8)"
   ]
  },
  {
   "cell_type": "code",
   "execution_count": 4,
   "metadata": {},
   "outputs": [],
   "source": [
    "columns = [\"Australia\", \"British\", \"Canada\", \"Switzerland\", \"China\", \"Japan\", \"NewZealand\", \"Singapore\"]"
   ]
  },
  {
   "cell_type": "code",
   "execution_count": 5,
   "metadata": {},
   "outputs": [],
   "source": [
    "#np.mean(np.abs(autoregression[columns].values - target[columns].tail(738).values))"
   ]
  },
  {
   "cell_type": "code",
   "execution_count": 6,
   "metadata": {},
   "outputs": [
    {
     "data": {
      "text/plain": [
       "0.03041429962737127"
      ]
     },
     "execution_count": 6,
     "metadata": {},
     "output_type": "execute_result"
    }
   ],
   "source": [
    "np.mean(np.abs( (np.tile(target[columns].tail(659).head(1).values, 738)).reshape(738, len(columns)) - target[columns].tail(738).values))"
   ]
  },
  {
   "cell_type": "code",
   "execution_count": 7,
   "metadata": {},
   "outputs": [
    {
     "data": {
      "text/plain": [
       "0.017093471173100585"
      ]
     },
     "execution_count": 7,
     "metadata": {},
     "output_type": "execute_result"
    }
   ],
   "source": [
    "np.mean(np.abs(onestep[columns].values - target[columns].tail(658).values))"
   ]
  },
  {
   "cell_type": "code",
   "execution_count": 8,
   "metadata": {},
   "outputs": [
    {
     "data": {
      "text/plain": [
       "0.002476956496960486"
      ]
     },
     "execution_count": 8,
     "metadata": {},
     "output_type": "execute_result"
    }
   ],
   "source": [
    "np.mean(np.abs(target[columns].tail(659).head(658).values - target[columns].tail(658).values))"
   ]
  },
  {
   "cell_type": "code",
   "execution_count": null,
   "metadata": {},
   "outputs": [],
   "source": []
  }
 ],
 "metadata": {
  "kernelspec": {
   "display_name": "dev",
   "language": "python",
   "name": "python3"
  },
  "language_info": {
   "codemirror_mode": {
    "name": "ipython",
    "version": 3
   },
   "file_extension": ".py",
   "mimetype": "text/x-python",
   "name": "python",
   "nbconvert_exporter": "python",
   "pygments_lexer": "ipython3",
   "version": "3.11.8"
  }
 },
 "nbformat": 4,
 "nbformat_minor": 2
}
